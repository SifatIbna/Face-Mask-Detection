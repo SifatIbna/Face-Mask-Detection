{
 "cells": [
  {
   "cell_type": "code",
   "execution_count": 1,
   "metadata": {},
   "outputs": [],
   "source": [
    "import os\n",
    "import random\n",
    "from shutil import copyfile"
   ]
  },
  {
   "cell_type": "code",
   "execution_count": 2,
   "metadata": {},
   "outputs": [
    {
     "name": "stdout",
     "output_type": "stream",
     "text": [
      "690\n"
     ]
    }
   ],
   "source": [
    "print(len(os.listdir('data/source2/with_mask')))"
   ]
  },
  {
   "cell_type": "code",
   "execution_count": 3,
   "metadata": {},
   "outputs": [
    {
     "name": "stdout",
     "output_type": "stream",
     "text": [
      "686\n"
     ]
    }
   ],
   "source": [
    "print(len(os.listdir('data/source2/without_mask')))"
   ]
  },
  {
   "cell_type": "code",
   "execution_count": 4,
   "metadata": {},
   "outputs": [],
   "source": [
    "try:\n",
    "    base = 'data/face-mask'\n",
    "    \n",
    "    train_dir = os.path.join(base,'train')\n",
    "    test_dir = os.path.join(base,'test')\n",
    "    \n",
    "    train_with_mask_dir = os.path.join(train_dir,'with_mask')\n",
    "    train_without_mask_dir = os.path.join(train_dir,'without_mask')\n",
    "    \n",
    "    test_with_mask_dir = os.path.join(test_dir,'with_mask')\n",
    "    test_without_mask_dir = os.path.join(test_dir,'without_mask')\n",
    "    \n",
    "    os.mkdir(base)\n",
    "    \n",
    "    os.mkdir(train_dir)\n",
    "    os.mkdir(test_dir)\n",
    "    \n",
    "    os.mkdir(train_with_mask_dir)\n",
    "    os.mkdir(train_without_mask_dir)\n",
    "    \n",
    "    os.mkdir(test_with_mask_dir)\n",
    "    os.mkdir(test_without_mask_dir)\n",
    "except OSError:\n",
    "    pass"
   ]
  },
  {
   "cell_type": "code",
   "execution_count": 5,
   "metadata": {},
   "outputs": [],
   "source": [
    "def split_data(SOURCE, TRAINING, TESTING, SPLIT_SIZE):\n",
    "\n",
    "    list = os.listdir(SOURCE)\n",
    "    all_files = []\n",
    "    for f in list :\n",
    "        file_path = SOURCE +'/'+ f\n",
    "        if os.path.getsize(file_path):\n",
    "            all_files.append(f)\n",
    "        else:\n",
    "            print('files not found')\n",
    "            \n",
    "    split_val = int(len(all_files)*SPLIT_SIZE)\n",
    "    shuffled_list = random.sample(all_files,len(all_files))\n",
    "    train_file = shuffled_list[:split_val]\n",
    "    test_file = shuffled_list[split_val:]\n",
    "    for f in train_file:\n",
    "        copyfile(SOURCE+'/'+f,TRAINING+'/'+f)\n",
    "    for f in test_file:\n",
    "        copyfile(SOURCE+'/'+f,TESTING+'/'+f)"
   ]
  },
  {
   "cell_type": "code",
   "execution_count": 6,
   "metadata": {},
   "outputs": [],
   "source": [
    "\n",
    "with_mask_source_dir = 'data/source2/with_mask'\n",
    "with_mask_train_dir = 'data/face-mask/train/with_mask'\n",
    "with_mask_test_dir = 'data/face-mask/test/with_mask'\n",
    "\n",
    "without_mask_source_dir = 'data/source2/without_mask'\n",
    "without_mask_train_dir = 'data/face-mask/train/without_mask'\n",
    "without_mask_test_dir = 'data/face-mask/test/without_mask'\n",
    "\n",
    "split_size = .8\n",
    "split_data(with_mask_source_dir, with_mask_train_dir, with_mask_test_dir, split_size)\n",
    "split_data(without_mask_source_dir, without_mask_train_dir, without_mask_test_dir, split_size)"
   ]
  },
  {
   "cell_type": "code",
   "execution_count": 7,
   "metadata": {},
   "outputs": [
    {
     "name": "stdout",
     "output_type": "stream",
     "text": [
      "552\n",
      "138\n",
      "548\n",
      "138\n"
     ]
    }
   ],
   "source": [
    "print(len(os.listdir('data/face-mask/train/with_mask')))\n",
    "print(len(os.listdir('data/face-mask/test/with_mask')))\n",
    "print(len(os.listdir('data/face-mask/train/without_mask')))\n",
    "print(len(os.listdir('data/face-mask/test/without_mask')))"
   ]
  },
  {
   "cell_type": "code",
   "execution_count": 12,
   "metadata": {},
   "outputs": [],
   "source": [
    "import tensorflow as tf\n",
    "from tensorflow.keras.optimizers import RMSprop\n",
    "from tensorflow.keras.preprocessing.image import ImageDataGenerator\n",
    "from tensorflow.keras.callbacks import TensorBoard, ModelCheckpoint"
   ]
  },
  {
   "cell_type": "code",
   "execution_count": 13,
   "metadata": {},
   "outputs": [],
   "source": [
    "model = tf.keras.models.Sequential([\n",
    "\n",
    "    tf.keras.layers.Conv2D(100, (3,3), activation='relu', input_shape=(150, 150, 3)),\n",
    "    tf.keras.layers.MaxPooling2D(2,2),\n",
    "    \n",
    "    tf.keras.layers.Conv2D(100, (3,3), activation='relu'),\n",
    "    tf.keras.layers.MaxPooling2D(2,2),\n",
    "    \n",
    "    tf.keras.layers.Flatten(),\n",
    "    tf.keras.layers.Dropout(0.5),\n",
    "    tf.keras.layers.Dense(50, activation='relu'),\n",
    "    tf.keras.layers.Dense(2, activation='softmax')\n",
    "])\n",
    "model.compile(optimizer='adam', loss='binary_crossentropy', metrics=['acc'])"
   ]
  },
  {
   "cell_type": "code",
   "execution_count": 14,
   "metadata": {},
   "outputs": [
    {
     "name": "stdout",
     "output_type": "stream",
     "text": [
      "Found 1100 images belonging to 2 classes.\n",
      "Found 276 images belonging to 2 classes.\n"
     ]
    }
   ],
   "source": [
    "TRAINING_DIR = 'data/face-mask/train/'\n",
    "train_datagen = ImageDataGenerator(rescale=1.0/255,\n",
    "                                   rotation_range=40,\n",
    "                                   width_shift_range=0.2,\n",
    "                                   height_shift_range=0.2,\n",
    "                                   shear_range=0.2,\n",
    "                                   zoom_range=0.2,\n",
    "                                   horizontal_flip=True,\n",
    "                                   fill_mode='nearest')\n",
    "\n",
    "train_generator = train_datagen.flow_from_directory(TRAINING_DIR, \n",
    "                                                    batch_size=10, \n",
    "                                                    target_size=(150, 150))\n",
    "\n",
    "VALIDATION_DIR = 'data/face-mask/test/'\n",
    "validation_datagen = ImageDataGenerator(rescale=1.0/255)\n",
    "\n",
    "validation_generator = validation_datagen.flow_from_directory(VALIDATION_DIR, \n",
    "                                                         batch_size=10, \n",
    "                                                         target_size=(150, 150))\n",
    "checkpoint = ModelCheckpoint('model-{epoch:03d}.model',monitor='val_loss',verbose=0,save_best_only=True,mode='auto')"
   ]
  },
  {
   "cell_type": "code",
   "execution_count": 15,
   "metadata": {},
   "outputs": [
    {
     "name": "stdout",
     "output_type": "stream",
     "text": [
      "WARNING:tensorflow:From <ipython-input-15-fb50dbaa623d>:4: Model.fit_generator (from tensorflow.python.keras.engine.training) is deprecated and will be removed in a future version.\n",
      "Instructions for updating:\n",
      "Please use Model.fit, which supports generators.\n",
      "Epoch 1/30\n",
      "110/110 [==============================] - ETA: 0s - loss: 0.7569 - acc: 0.4955WARNING:tensorflow:From S:\\Users\\sifat\\anaconda3\\envs\\tf-gpu\\lib\\site-packages\\tensorflow\\python\\ops\\resource_variable_ops.py:1817: calling BaseResourceVariable.__init__ (from tensorflow.python.ops.resource_variable_ops) with constraint is deprecated and will be removed in a future version.\n",
      "Instructions for updating:\n",
      "If using Keras pass *_constraint arguments to layers.\n",
      "INFO:tensorflow:Assets written to: model-001.model\\assets\n",
      "110/110 [==============================] - 30s 275ms/step - loss: 0.7569 - acc: 0.4955 - val_loss: 0.6928 - val_acc: 0.5000\n",
      "Epoch 2/30\n",
      "110/110 [==============================] - ETA: 0s - loss: 0.6947 - acc: 0.5264INFO:tensorflow:Assets written to: model-002.model\\assets\n",
      "110/110 [==============================] - 29s 263ms/step - loss: 0.6947 - acc: 0.5264 - val_loss: 0.6879 - val_acc: 0.6812\n",
      "Epoch 3/30\n",
      "110/110 [==============================] - ETA: 0s - loss: 0.6201 - acc: 0.6436INFO:tensorflow:Assets written to: model-003.model\\assets\n",
      "110/110 [==============================] - 29s 266ms/step - loss: 0.6201 - acc: 0.6436 - val_loss: 0.3414 - val_acc: 0.8587\n",
      "Epoch 4/30\n",
      "110/110 [==============================] - ETA: 0s - loss: 0.3456 - acc: 0.8800INFO:tensorflow:Assets written to: model-004.model\\assets\n",
      "110/110 [==============================] - 29s 263ms/step - loss: 0.3456 - acc: 0.8800 - val_loss: 0.1759 - val_acc: 0.9493\n",
      "Epoch 5/30\n",
      "110/110 [==============================] - ETA: 0s - loss: 0.3253 - acc: 0.8791INFO:tensorflow:Assets written to: model-005.model\\assets\n",
      "110/110 [==============================] - 29s 260ms/step - loss: 0.3253 - acc: 0.8791 - val_loss: 0.1223 - val_acc: 0.9638\n",
      "Epoch 6/30\n",
      "110/110 [==============================] - ETA: 0s - loss: 0.2608 - acc: 0.9036INFO:tensorflow:Assets written to: model-006.model\\assets\n",
      "110/110 [==============================] - 29s 259ms/step - loss: 0.2608 - acc: 0.9036 - val_loss: 0.1040 - val_acc: 0.9565\n",
      "Epoch 7/30\n",
      "110/110 [==============================] - 26s 237ms/step - loss: 0.2329 - acc: 0.9136 - val_loss: 0.1046 - val_acc: 0.9638\n",
      "Epoch 8/30\n",
      "110/110 [==============================] - ETA: 0s - loss: 0.2147 - acc: 0.9273INFO:tensorflow:Assets written to: model-008.model\\assets\n",
      "110/110 [==============================] - 29s 264ms/step - loss: 0.2147 - acc: 0.9273 - val_loss: 0.0770 - val_acc: 0.9783\n",
      "Epoch 9/30\n",
      "110/110 [==============================] - 26s 239ms/step - loss: 0.1823 - acc: 0.9255 - val_loss: 0.1246 - val_acc: 0.9710\n",
      "Epoch 10/30\n",
      "110/110 [==============================] - ETA: 0s - loss: 0.2121 - acc: 0.9418INFO:tensorflow:Assets written to: model-010.model\\assets\n",
      "110/110 [==============================] - 28s 258ms/step - loss: 0.2121 - acc: 0.9418 - val_loss: 0.0750 - val_acc: 0.9674\n",
      "Epoch 11/30\n",
      "110/110 [==============================] - 26s 237ms/step - loss: 0.1573 - acc: 0.9445 - val_loss: 0.1196 - val_acc: 0.9601\n",
      "Epoch 12/30\n",
      "110/110 [==============================] - ETA: 0s - loss: 0.1679 - acc: 0.9482INFO:tensorflow:Assets written to: model-012.model\\assets\n",
      "110/110 [==============================] - 29s 261ms/step - loss: 0.1679 - acc: 0.9482 - val_loss: 0.0431 - val_acc: 0.9783\n",
      "Epoch 13/30\n",
      "110/110 [==============================] - ETA: 0s - loss: 0.1123 - acc: 0.9627INFO:tensorflow:Assets written to: model-013.model\\assets\n",
      "110/110 [==============================] - 29s 264ms/step - loss: 0.1123 - acc: 0.9627 - val_loss: 0.0327 - val_acc: 0.9928\n",
      "Epoch 14/30\n",
      "110/110 [==============================] - 26s 237ms/step - loss: 0.1207 - acc: 0.9573 - val_loss: 0.0388 - val_acc: 0.9891\n",
      "Epoch 15/30\n",
      "110/110 [==============================] - 26s 237ms/step - loss: 0.1346 - acc: 0.9518 - val_loss: 0.0418 - val_acc: 0.9855\n",
      "Epoch 16/30\n",
      "110/110 [==============================] - 26s 237ms/step - loss: 0.1236 - acc: 0.9564 - val_loss: 0.0504 - val_acc: 0.9746\n",
      "Epoch 17/30\n",
      "110/110 [==============================] - 26s 239ms/step - loss: 0.1201 - acc: 0.9545 - val_loss: 0.0366 - val_acc: 0.9891\n",
      "Epoch 18/30\n",
      "110/110 [==============================] - 26s 237ms/step - loss: 0.0987 - acc: 0.9736 - val_loss: 0.0552 - val_acc: 0.9783\n",
      "Epoch 19/30\n",
      "110/110 [==============================] - 26s 237ms/step - loss: 0.1448 - acc: 0.9491 - val_loss: 0.1542 - val_acc: 0.9601\n",
      "Epoch 20/30\n",
      "110/110 [==============================] - ETA: 0s - loss: 0.1241 - acc: 0.9518INFO:tensorflow:Assets written to: model-020.model\\assets\n",
      "110/110 [==============================] - 29s 263ms/step - loss: 0.1241 - acc: 0.9518 - val_loss: 0.0208 - val_acc: 1.0000\n",
      "Epoch 21/30\n",
      "110/110 [==============================] - 26s 238ms/step - loss: 0.1056 - acc: 0.9718 - val_loss: 0.0500 - val_acc: 0.9674\n",
      "Epoch 22/30\n",
      "110/110 [==============================] - 26s 239ms/step - loss: 0.1074 - acc: 0.9627 - val_loss: 0.1327 - val_acc: 0.9529\n",
      "Epoch 23/30\n",
      "110/110 [==============================] - 26s 238ms/step - loss: 0.0685 - acc: 0.9773 - val_loss: 0.0519 - val_acc: 0.9819\n",
      "Epoch 24/30\n",
      "110/110 [==============================] - ETA: 0s - loss: 0.0610 - acc: 0.9782INFO:tensorflow:Assets written to: model-024.model\\assets\n",
      "110/110 [==============================] - 29s 260ms/step - loss: 0.0610 - acc: 0.9782 - val_loss: 0.0116 - val_acc: 0.9964\n",
      "Epoch 25/30\n",
      "110/110 [==============================] - 26s 238ms/step - loss: 0.0664 - acc: 0.9855 - val_loss: 0.0862 - val_acc: 0.9710\n",
      "Epoch 26/30\n",
      "110/110 [==============================] - 26s 237ms/step - loss: 0.0841 - acc: 0.9700 - val_loss: 0.0730 - val_acc: 0.9674\n",
      "Epoch 27/30\n",
      "110/110 [==============================] - 26s 237ms/step - loss: 0.0923 - acc: 0.9627 - val_loss: 0.0656 - val_acc: 0.9710\n",
      "Epoch 28/30\n",
      "110/110 [==============================] - 26s 237ms/step - loss: 0.0764 - acc: 0.9745 - val_loss: 0.0779 - val_acc: 0.9674\n",
      "Epoch 29/30\n",
      "110/110 [==============================] - 26s 239ms/step - loss: 0.0647 - acc: 0.9791 - val_loss: 0.0187 - val_acc: 0.9928\n",
      "Epoch 30/30\n",
      "110/110 [==============================] - 26s 238ms/step - loss: 0.0880 - acc: 0.9709 - val_loss: 0.0238 - val_acc: 0.9928\n"
     ]
    }
   ],
   "source": [
    "history = model.fit_generator(train_generator,\n",
    "                              epochs=30,\n",
    "                              validation_data=validation_generator,\n",
    "                              callbacks=[checkpoint])"
   ]
  },
  {
   "cell_type": "code",
   "execution_count": 16,
   "metadata": {},
   "outputs": [
    {
     "data": {
      "text/plain": [
       "Text(0.5, 1.0, 'Training and validation loss')"
      ]
     },
     "execution_count": 16,
     "metadata": {},
     "output_type": "execute_result"
    },
    {
     "data": {
      "image/png": "[encoded data removed]",
      "text/plain": [
       "<Figure size 432x288 with 1 Axes>"
      ]
     },
     "metadata": {
      "needs_background": "light"
     },
     "output_type": "display_data"
    },
    {
     "data": {
      "image/png": "[encoded data removed]",
      "text/plain": [
       "<Figure size 432x288 with 1 Axes>"
      ]
     },
     "metadata": {
      "needs_background": "light"
     },
     "output_type": "display_data"
    }
   ],
   "source": [
    "%matplotlib inline\n",
    "\n",
    "import matplotlib.image  as mpimg\n",
    "import matplotlib.pyplot as plt\n",
    "\n",
    "#-----------------------------------------------------------\n",
    "# Retrieve a list of list results on training and test data\n",
    "# sets for each training epoch\n",
    "#-----------------------------------------------------------\n",
    "acc=history.history['acc']\n",
    "val_acc=history.history['val_acc']\n",
    "loss=history.history['loss']\n",
    "val_loss=history.history['val_loss']\n",
    "\n",
    "epochs=range(len(acc)) # Get number of epochs\n",
    "\n",
    "#------------------------------------------------\n",
    "# Plot training and validation accuracy per epoch\n",
    "#------------------------------------------------\n",
    "plt.plot(epochs, acc, 'r', \"Training Accuracy\")\n",
    "plt.plot(epochs, val_acc, 'b', \"Validation Accuracy\")\n",
    "plt.title('Training and validation accuracy')\n",
    "plt.figure()\n",
    "\n",
    "#------------------------------------------------\n",
    "# Plot training and validation loss per epoch\n",
    "#------------------------------------------------\n",
    "plt.plot(epochs, loss, 'r', \"Training Loss\")\n",
    "plt.plot(epochs, val_loss, 'b', \"Validation Loss\")\n",
    "\n",
    "\n",
    "plt.title('Training and validation loss')\n"
   ]
  },
  {
   "cell_type": "code",
   "execution_count": 23,
   "metadata": {},
   "outputs": [
    {
     "name": "stdout",
     "output_type": "stream",
     "text": [
      "(150, 150, 3)\n",
      "(1, 150, 150, 3)\n",
      "[0. 1.]\n",
      " is a without mask\n"
     ]
    }
   ],
   "source": [
    "import numpy as np\n",
    "from tensorflow.keras.preprocessing import image\n",
    "import cv2\n",
    "path = 'data/without_mask.jpg'\n",
    "img=image.load_img(path, target_size=(150, 150))\n",
    "x=image.img_to_array(img)\n",
    "print(x.shape)\n",
    "x=np.expand_dims(x, axis=0)\n",
    "print(x.shape)\n",
    "images = np.vstack([x])\n",
    "classes = model.predict(images, batch_size=10)\n",
    "\n",
    "print(classes[0])\n",
    "\n",
    "if classes[0][0]:\n",
    "    print(\" is a with mask\")\n",
    "\n",
    "else:\n",
    "    print(\" is a without mask\")"
   ]
  },
  {
   "cell_type": "code",
   "execution_count": 21,
   "metadata": {},
   "outputs": [],
   "source": [
    "# face_clsfr=cv2.CascadeClassifier('haarcascade_frontalface_default.xml')"
   ]
  },
  {
   "cell_type": "code",
   "execution_count": 24,
   "metadata": {},
   "outputs": [],
   "source": [
    "# labels_dict={0:'without_mask',1:'with_mask'}\n",
    "# color_dict={0:(0,0,255),1:(0,255,0)}\n",
    "\n",
    "# size = 4\n",
    "# webcam = cv2.VideoCapture(0) #Use camera 0\n",
    "\n",
    "# # We load the xml file\n",
    "# classifier = cv2.CascadeClassifier('haarcascade_frontalface_default.xml')\n",
    "\n",
    "# while True:\n",
    "#     (rval, im) = webcam.read()\n",
    "#     im=cv2.flip(im,1,1) #Flip to act as a mirror\n",
    "\n",
    "#     # Resize the image to speed up detection\n",
    "# #     mini = cv2.resize(im, (im.shape[1] // size, im.shape[0] // size))\n",
    "\n",
    "#     # detect MultiScale / faces \n",
    "#     faces = classifier.detectMultiScale(im)\n",
    "\n",
    "#     # Draw rectangles around each face\n",
    "#     for f in faces:\n",
    "#         (x, y, w, h) = [v * size for v in f] #Scale the shapesize backup\n",
    "#         #Save just the rectangle faces in SubRecFaces\n",
    "#         face_img = im[y:y+h, x:x+w]\n",
    "#         resized=cv2.resize(face_img,(150,150))\n",
    "#         normalized=resized/255.0\n",
    "#         reshaped=np.expand_dims(normalized, axis=0)\n",
    "#         reshaped = np.vstack([reshaped])\n",
    "#         result=model.predict(reshaped,batch_size=10)\n",
    "#         #print(result)\n",
    "        \n",
    "#         label=np.argmax(result,axis=1)[0]\n",
    "      \n",
    "#         cv2.rectangle(im,(x,y),(x+w,y+h),color_dict[label],2)\n",
    "#         cv2.rectangle(im,(x,y-40),(x+w,y),color_dict[label],-1)\n",
    "#         cv2.putText(im, labels_dict[label], (x, y-10),cv2.FONT_HERSHEY_SIMPLEX,0.8,(255,255,255),2)\n",
    "        \n",
    "#     # Show the image\n",
    "#     cv2.imshow('LIVE',   im)\n",
    "#     key = cv2.waitKey(10)\n",
    "#     # if Esc key is press then break out of the loop \n",
    "#     if key == 27: #The Esc key\n",
    "#         break\n",
    "# # Stop video\n",
    "# webcam.release()\n",
    "\n",
    "# # Close all started windows\n",
    "# cv2.destroyAllWindows()"
   ]
  },
  {
   "cell_type": "code",
   "execution_count": null,
   "metadata": {},
   "outputs": [],
   "source": []
  }
 ],
 "metadata": {
  "kernelspec": {
   "display_name": "Python 3",
   "language": "python",
   "name": "python3"
  },
  "language_info": {
   "codemirror_mode": {
    "name": "ipython",
    "version": 3
   },
   "file_extension": ".py",
   "mimetype": "text/x-python",
   "name": "python",
   "nbconvert_exporter": "python",
   "pygments_lexer": "ipython3",
   "version": "3.7.7"
  }
 },
 "nbformat": 4,
 "nbformat_minor": 4
}
