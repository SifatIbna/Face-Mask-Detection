{
 "cells": [
  {
   "cell_type": "code",
   "execution_count": 6,
   "metadata": {},
   "outputs": [],
   "source": [
    "from data_generator import DataGenerator\n",
    "import cv2\n",
    "import os\n",
    "import tensorflow as tf\n",
    "from tensorflow.keras.optimizers import RMSprop\n",
    "from tensorflow.keras.preprocessing.image import ImageDataGenerator\n",
    "from tensorflow.keras.callbacks import TensorBoard, ModelCheckpoint\n",
    "from tensorflow.keras.preprocessing import image\n",
    "import numpy as np\n",
    "import matplotlib.image  as mpimg\n",
    "import matplotlib.pyplot as plt\n",
    "%matplotlib inline"
   ]
  },
  {
   "cell_type": "code",
   "execution_count": 2,
   "metadata": {},
   "outputs": [
    {
     "name": "stdout",
     "output_type": "stream",
     "text": [
      "552\n",
      "138\n",
      "548\n"
     ]
    }
   ],
   "source": [
    "DataGenerator().copy_data_to_dest()\n",
    "\n",
    "print(len(os.listdir('data/face-mask/train/with_mask')))\n",
    "print(len(os.listdir('data/face-mask/test/with_mask')))\n",
    "print(len(os.listdir('data/face-mask/train/without_mask')))\n"
   ]
  },
  {
   "cell_type": "code",
   "execution_count": 3,
   "metadata": {},
   "outputs": [],
   "source": [
    "model = tf.keras.models.Sequential([\n",
    "\n",
    "    tf.keras.layers.Conv2D(100, (3,3), activation='relu', input_shape=(150, 150, 3)),\n",
    "    tf.keras.layers.MaxPooling2D(2,2),\n",
    "    \n",
    "    tf.keras.layers.Conv2D(100, (3,3), activation='relu'),\n",
    "    tf.keras.layers.MaxPooling2D(2,2),\n",
    "    \n",
    "    tf.keras.layers.Flatten(),\n",
    "    tf.keras.layers.Dropout(0.5),\n",
    "    tf.keras.layers.Dense(50, activation='relu'),\n",
    "    tf.keras.layers.Dense(2, activation='sigmoid')\n",
    "])\n",
    "model.compile(optimizer='adam', loss='binary_crossentropy', metrics=['acc'])"
   ]
  },
  {
   "cell_type": "code",
   "execution_count": 4,
   "metadata": {},
   "outputs": [
    {
     "name": "stdout",
     "output_type": "stream",
     "text": [
      "Found 1100 images belonging to 2 classes.\n",
      "Found 276 images belonging to 2 classes.\n"
     ]
    }
   ],
   "source": [
    "TRAINING_DIR = 'data/face-mask/train/'\n",
    "train_datagen = ImageDataGenerator(rescale=1.0/255,\n",
    "                                   rotation_range=40,\n",
    "                                   width_shift_range=0.2,\n",
    "                                   height_shift_range=0.2,\n",
    "                                   shear_range=0.2,\n",
    "                                   zoom_range=0.2,\n",
    "                                   horizontal_flip=True,\n",
    "                                   fill_mode='nearest')\n",
    "\n",
    "train_generator = train_datagen.flow_from_directory(TRAINING_DIR, \n",
    "                                                    batch_size=10, \n",
    "                                                    target_size=(150, 150))\n",
    "\n",
    "VALIDATION_DIR = 'data/face-mask/test/'\n",
    "validation_datagen = ImageDataGenerator(rescale=1.0/255)\n",
    "\n",
    "validation_generator = validation_datagen.flow_from_directory(VALIDATION_DIR, \n",
    "                                                         batch_size=10, \n",
    "                                                         target_size=(150, 150))\n",
    "checkpoint = ModelCheckpoint('model-{epoch:03d}.model',monitor='val_loss',verbose=0,save_best_only=True,mode='auto')"
   ]
  },
  {
   "cell_type": "code",
   "execution_count": 5,
   "metadata": {},
   "outputs": [
    {
     "name": "stdout",
     "output_type": "stream",
     "text": [
      "WARNING:tensorflow:From <ipython-input-5-aaccf2525a44>:4: Model.fit_generator (from tensorflow.python.keras.engine.training) is deprecated and will be removed in a future version.\n",
      "Instructions for updating:\n",
      "Please use Model.fit, which supports generators.\n",
      "Epoch 1/30\n",
      "110/110 [==============================] - ETA: 0s - loss: 0.6908 - acc: 0.5609WARNING:tensorflow:From S:\\Users\\sifat\\anaconda3\\envs\\tf-gpu\\lib\\site-packages\\tensorflow\\python\\ops\\resource_variable_ops.py:1817: calling BaseResourceVariable.__init__ (from tensorflow.python.ops.resource_variable_ops) with constraint is deprecated and will be removed in a future version.\n",
      "Instructions for updating:\n",
      "If using Keras pass *_constraint arguments to layers.\n",
      "INFO:tensorflow:Assets written to: model-001.model\\assets\n",
      "110/110 [==============================] - 30s 276ms/step - loss: 0.6908 - acc: 0.5609 - val_loss: 0.3998 - val_acc: 0.8913\n",
      "Epoch 2/30\n",
      "110/110 [==============================] - 26s 239ms/step - loss: 0.5281 - acc: 0.7218 - val_loss: 0.6979 - val_acc: 0.5000\n",
      "Epoch 3/30\n",
      "110/110 [==============================] - 26s 239ms/step - loss: 0.6946 - acc: 0.4845 - val_loss: 0.6933 - val_acc: 0.5000\n",
      "Epoch 4/30\n",
      "110/110 [==============================] - 27s 242ms/step - loss: 0.6945 - acc: 0.5027 - val_loss: 0.6935 - val_acc: 0.5000\n",
      "Epoch 5/30\n",
      "110/110 [==============================] - 26s 239ms/step - loss: 0.6934 - acc: 0.4973 - val_loss: 0.6938 - val_acc: 0.5000\n",
      "Epoch 6/30\n",
      "110/110 [==============================] - 26s 239ms/step - loss: 0.6934 - acc: 0.5082 - val_loss: 0.6918 - val_acc: 0.5580\n",
      "Epoch 7/30\n",
      "110/110 [==============================] - 26s 239ms/step - loss: 0.6933 - acc: 0.5027 - val_loss: 0.6933 - val_acc: 0.5000\n",
      "Epoch 8/30\n",
      "110/110 [==============================] - 26s 240ms/step - loss: 0.6933 - acc: 0.4882 - val_loss: 0.6927 - val_acc: 0.5688\n",
      "Epoch 9/30\n",
      "110/110 [==============================] - 26s 241ms/step - loss: 0.6959 - acc: 0.5155 - val_loss: 0.6931 - val_acc: 0.5217\n",
      "Epoch 10/30\n",
      "110/110 [==============================] - 27s 246ms/step - loss: 0.7067 - acc: 0.5209 - val_loss: 0.6882 - val_acc: 0.5145\n",
      "Epoch 11/30\n",
      "110/110 [==============================] - 27s 248ms/step - loss: 0.6941 - acc: 0.5864 - val_loss: 0.6869 - val_acc: 0.5942\n",
      "Epoch 12/30\n",
      "110/110 [==============================] - 27s 244ms/step - loss: 0.6362 - acc: 0.6673 - val_loss: 0.4625 - val_acc: 0.9058\n",
      "Epoch 13/30\n",
      "110/110 [==============================] - 27s 245ms/step - loss: 0.6876 - acc: 0.5573 - val_loss: 0.6530 - val_acc: 0.6884\n",
      "Epoch 14/30\n",
      "110/110 [==============================] - 27s 245ms/step - loss: 0.5721 - acc: 0.7173 - val_loss: 0.6035 - val_acc: 0.7065\n",
      "Epoch 15/30\n",
      "110/110 [==============================] - ETA: 0s - loss: 0.4996 - acc: 0.7764INFO:tensorflow:Assets written to: model-015.model\\assets\n",
      "110/110 [==============================] - 30s 270ms/step - loss: 0.4996 - acc: 0.7764 - val_loss: 0.3351 - val_acc: 0.9312\n",
      "Epoch 16/30\n",
      "110/110 [==============================] - ETA: 0s - loss: 0.3415 - acc: 0.8891INFO:tensorflow:Assets written to: model-016.model\\assets\n",
      "110/110 [==============================] - 29s 264ms/step - loss: 0.3415 - acc: 0.8891 - val_loss: 0.1293 - val_acc: 0.9529\n",
      "Epoch 17/30\n",
      "110/110 [==============================] - 27s 246ms/step - loss: 0.3293 - acc: 0.8855 - val_loss: 0.5732 - val_acc: 0.6920\n",
      "Epoch 18/30\n",
      "110/110 [==============================] - 27s 246ms/step - loss: 0.3162 - acc: 0.8827 - val_loss: 0.1435 - val_acc: 0.9710\n",
      "Epoch 19/30\n",
      "110/110 [==============================] - ETA: 0s - loss: 0.2343 - acc: 0.9218INFO:tensorflow:Assets written to: model-019.model\\assets\n",
      "110/110 [==============================] - 30s 270ms/step - loss: 0.2343 - acc: 0.9218 - val_loss: 0.1150 - val_acc: 0.9601\n",
      "Epoch 20/30\n",
      "110/110 [==============================] - 27s 242ms/step - loss: 0.2151 - acc: 0.9264 - val_loss: 0.1220 - val_acc: 0.9565\n",
      "Epoch 21/30\n",
      "110/110 [==============================] - 27s 243ms/step - loss: 0.2228 - acc: 0.9236 - val_loss: 0.1213 - val_acc: 0.9565\n",
      "Epoch 22/30\n",
      "110/110 [==============================] - 27s 244ms/step - loss: 0.2106 - acc: 0.9300 - val_loss: 0.1306 - val_acc: 0.9565\n",
      "Epoch 23/30\n",
      "110/110 [==============================] - ETA: 0s - loss: 0.1658 - acc: 0.9345INFO:tensorflow:Assets written to: model-023.model\\assets\n",
      "110/110 [==============================] - 30s 271ms/step - loss: 0.1658 - acc: 0.9345 - val_loss: 0.0691 - val_acc: 0.9674\n",
      "Epoch 24/30\n",
      "110/110 [==============================] - 27s 247ms/step - loss: 0.1766 - acc: 0.9473 - val_loss: 0.0953 - val_acc: 0.9674\n",
      "Epoch 25/30\n",
      "110/110 [==============================] - ETA: 0s - loss: 0.1381 - acc: 0.9518INFO:tensorflow:Assets written to: model-025.model\\assets\n",
      "110/110 [==============================] - 31s 279ms/step - loss: 0.1381 - acc: 0.9518 - val_loss: 0.0424 - val_acc: 0.9819\n",
      "Epoch 26/30\n",
      "110/110 [==============================] - 28s 257ms/step - loss: 0.1724 - acc: 0.9491 - val_loss: 0.0660 - val_acc: 0.9710\n",
      "Epoch 27/30\n",
      "110/110 [==============================] - 27s 246ms/step - loss: 0.1576 - acc: 0.9464 - val_loss: 0.1064 - val_acc: 0.9674\n",
      "Epoch 28/30\n",
      "110/110 [==============================] - 27s 245ms/step - loss: 0.1444 - acc: 0.9600 - val_loss: 0.0696 - val_acc: 0.9783\n",
      "Epoch 29/30\n",
      "110/110 [==============================] - 27s 244ms/step - loss: 0.1262 - acc: 0.9627 - val_loss: 0.1332 - val_acc: 0.9601\n",
      "Epoch 30/30\n",
      "110/110 [==============================] - ETA: 0s - loss: 0.1322 - acc: 0.9673INFO:tensorflow:Assets written to: model-030.model\\assets\n",
      "110/110 [==============================] - 30s 269ms/step - loss: 0.1322 - acc: 0.9673 - val_loss: 0.0333 - val_acc: 0.9891\n"
     ]
    }
   ],
   "source": [
    "history = model.fit_generator(train_generator,\n",
    "                              epochs=30,\n",
    "                              validation_data=validation_generator,\n",
    "                              callbacks=[checkpoint])\n",
    "model.save('my_model.h5')"
   ]
  },
  {
   "cell_type": "code",
   "execution_count": 6,
   "metadata": {},
   "outputs": [
    {
     "data": {
      "text/plain": [
       "Text(0.5, 1.0, 'Training and validation loss')"
      ]
     },
     "execution_count": 6,
     "metadata": {},
     "output_type": "execute_result"
    },
    {
     "data": {
      "image/png": "[encoded data removed]",
      "text/plain": [
       "<Figure size 432x288 with 1 Axes>"
      ]
     },
     "metadata": {
      "needs_background": "light"
     },
     "output_type": "display_data"
    },
    {
     "data": {
      "image/png": "[encoded data removed]",
      "text/plain": [
       "<Figure size 432x288 with 1 Axes>"
      ]
     },
     "metadata": {
      "needs_background": "light"
     },
     "output_type": "display_data"
    }
   ],
   "source": [
    "#-----------------------------------------------------------\n",
    "# Retrieving a list of list results on training and test data\n",
    "# sets for each training epoch\n",
    "#-----------------------------------------------------------\n",
    "acc=history.history['acc']\n",
    "val_acc=history.history['val_acc']\n",
    "loss=history.history['loss']\n",
    "val_loss=history.history['val_loss']\n",
    "\n",
    "epochs=range(len(acc)) \n",
    "\n",
    "#------------------------------------------------\n",
    "# Plotting training and validation accuracy per epoch\n",
    "#------------------------------------------------\n",
    "plt.plot(epochs, acc, 'r', \"Training Accuracy\")\n",
    "plt.plot(epochs, val_acc, 'b', \"Validation Accuracy\")\n",
    "plt.title('Training and validation accuracy')\n",
    "plt.figure()\n",
    "\n",
    "#------------------------------------------------\n",
    "# Plotting training and validation loss per epoch\n",
    "#------------------------------------------------\n",
    "plt.plot(epochs, loss, 'r', \"Training Loss\")\n",
    "plt.plot(epochs, val_loss, 'b', \"Validation Loss\")\n",
    "\n",
    "\n",
    "plt.title('Training and validation loss')\n"
   ]
  },
  {
   "cell_type": "code",
   "execution_count": 3,
   "metadata": {},
   "outputs": [
    {
     "name": "stdout",
     "output_type": "stream",
     "text": [
      "Model: \"sequential\"\n",
      "_________________________________________________________________\n",
      "Layer (type)                 Output Shape              Param #   \n",
      "=================================================================\n",
      "conv2d (Conv2D)              (None, 148, 148, 100)     2800      \n",
      "_________________________________________________________________\n",
      "max_pooling2d (MaxPooling2D) (None, 74, 74, 100)       0         \n",
      "_________________________________________________________________\n",
      "conv2d_1 (Conv2D)            (None, 72, 72, 100)       90100     \n",
      "_________________________________________________________________\n",
      "max_pooling2d_1 (MaxPooling2 (None, 36, 36, 100)       0         \n",
      "_________________________________________________________________\n",
      "flatten (Flatten)            (None, 129600)            0         \n",
      "_________________________________________________________________\n",
      "dropout (Dropout)            (None, 129600)            0         \n",
      "_________________________________________________________________\n",
      "dense (Dense)                (None, 50)                6480050   \n",
      "_________________________________________________________________\n",
      "dense_1 (Dense)              (None, 2)                 102       \n",
      "=================================================================\n",
      "Total params: 6,573,052\n",
      "Trainable params: 6,573,052\n",
      "Non-trainable params: 0\n",
      "_________________________________________________________________\n",
      "(150, 150, 3)\n",
      "(1, 150, 150, 3)\n",
      "[1. 0.]\n",
      " is a with mask\n"
     ]
    }
   ],
   "source": [
    "#model validation\n",
    "\n",
    "new_model = tf.keras.models.load_model('my_model.h5')\n",
    "new_model.summary()\n",
    "\n",
    "path = 'data/validation/with_mask.jpg'\n",
    "img=image.load_img(path, target_size=(150, 150))\n",
    "x=image.img_to_array(img)\n",
    "print(x.shape)\n",
    "x=np.expand_dims(x, axis=0)\n",
    "print(x.shape)\n",
    "images = np.vstack([x])\n",
    "classes = new_model.predict(images, batch_size=10)\n",
    "\n",
    "print(classes[0])\n",
    "\n",
    "if classes[0][0]:\n",
    "    print(\" is a with mask\")\n",
    "\n",
    "else:\n",
    "    print(\" is a without mask\")"
   ]
  },
  {
   "cell_type": "code",
   "execution_count": null,
   "metadata": {},
   "outputs": [],
   "source": []
  }
 ],
 "metadata": {
  "kernelspec": {
   "display_name": "Python 3",
   "language": "python",
   "name": "python3"
  },
  "language_info": {
   "codemirror_mode": {
    "name": "ipython",
    "version": 3
   },
   "file_extension": ".py",
   "mimetype": "text/x-python",
   "name": "python",
   "nbconvert_exporter": "python",
   "pygments_lexer": "ipython3",
   "version": "3.7.7"
  }
 },
 "nbformat": 4,
 "nbformat_minor": 4
}
